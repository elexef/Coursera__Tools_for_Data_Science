{
 "cells": [
  {
   "cell_type": "markdown",
   "id": "db6013a8-de30-4221-8e4b-9ec3d209c885",
   "metadata": {
    "tags": []
   },
   "source": [
    "# Data Science Tools and Ecosystem"
   ]
  },
  {
   "cell_type": "markdown",
   "id": "952b10a1-7635-49f8-9f33-7b6c7790a4a7",
   "metadata": {},
   "source": [
    "In this notebook, Data Science Tools and Ecosystem are summarized."
   ]
  },
  {
   "cell_type": "markdown",
   "id": "2bbe456a-ed17-42b7-b9c6-7bdadf043c8d",
   "metadata": {},
   "source": [
    "**Objectives:**\n",
    "- List popular languages for Data Science.\n",
    "- List commonly used libraries used by Data Scientists.\n",
    "- List Data Science Tools\n",
    "- Simple arithmetic expression.\n",
    "- minutes to hours conversion."
   ]
  },
  {
   "cell_type": "markdown",
   "id": "51c2e9c9-773e-433f-b849-996d2562a971",
   "metadata": {},
   "source": [
    "## Author\n",
    "LJW"
   ]
  },
  {
   "cell_type": "markdown",
   "id": "a14b58d9-e6f2-4b92-84b5-863ca434cb4c",
   "metadata": {},
   "source": [
    "Some of the popular languages that Data Scientists use are:\n",
    "1. Python\n",
    "2. R\n",
    "3. SQL\n",
    "4. Scala\n",
    "5. Java\n",
    "6. C++\n",
    "7. Julia"
   ]
  },
  {
   "cell_type": "markdown",
   "id": "16d9d998-8571-4a95-aad0-5de11d2827e9",
   "metadata": {},
   "source": [
    "Some of the commonly used libraries used by Data Scientists include:\n",
    "1. Scientific Computing Libraries in Python : Pandas, Numpy\n",
    "2. Visualization Libraries in Python : Matplotlib, Seaborn\n",
    "3. Machine Learning and Deep Learning Libraries in Python : Scikit-learn, Keras, TensorFlow, PyTorch"
   ]
  },
  {
   "cell_type": "markdown",
   "id": "75b20d4e-635f-4455-a2fe-65820129fd59",
   "metadata": {},
   "source": [
    "| Data Science Tools |\n",
    "|--------------------|\n",
    "| Jupyter Notebook |\n",
    "| JupyterLab |\n",
    "| JupyterLite |\n",
    "| VS Code |\n",
    "| Google Colaboratory |\n",
    "| RStudio |\n",
    "| GitHub |"
   ]
  },
  {
   "cell_type": "markdown",
   "id": "38a3c8a8-b1a0-44a6-bf49-ee58becada3e",
   "metadata": {},
   "source": [
    "### Below are a few examples of evaluating arithmetic expressions in Python."
   ]
  },
  {
   "cell_type": "code",
   "execution_count": 1,
   "id": "657a0307-c876-44b6-bbf3-d1c9b7cc230f",
   "metadata": {
    "tags": []
   },
   "outputs": [
    {
     "data": {
      "text/plain": [
       "17"
      ]
     },
     "execution_count": 1,
     "metadata": {},
     "output_type": "execute_result"
    }
   ],
   "source": [
    "# This a simple arithmetic expression to multiply then add integers.\n",
    "(3*4)+5"
   ]
  },
  {
   "cell_type": "code",
   "execution_count": 2,
   "id": "4ec05343-97dc-43e7-8e7b-f5cc88eadd98",
   "metadata": {
    "tags": []
   },
   "outputs": [
    {
     "data": {
      "text/plain": [
       "3.3333333333333335"
      ]
     },
     "execution_count": 2,
     "metadata": {},
     "output_type": "execute_result"
    }
   ],
   "source": [
    "# This will convert 200 minutes to hours by dividing by 60.\n",
    "200/60"
   ]
  }
 ],
 "metadata": {
  "kernelspec": {
   "display_name": "Python",
   "language": "python",
   "name": "conda-env-python-py"
  },
  "language_info": {
   "codemirror_mode": {
    "name": "ipython",
    "version": 3
   },
   "file_extension": ".py",
   "mimetype": "text/x-python",
   "name": "python",
   "nbconvert_exporter": "python",
   "pygments_lexer": "ipython3",
   "version": "3.7.12"
  }
 },
 "nbformat": 4,
 "nbformat_minor": 5
}
